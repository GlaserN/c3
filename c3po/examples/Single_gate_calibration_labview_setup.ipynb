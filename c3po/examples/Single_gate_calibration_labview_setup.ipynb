{
 "cells": [
  {
   "cell_type": "markdown",
   "metadata": {},
   "source": [
    "# Import and definitions"
   ]
  },
  {
   "cell_type": "code",
   "execution_count": 1,
   "metadata": {},
   "outputs": [],
   "source": [
    "import glob\n",
    "import os\n",
    "import sys\n",
    "import time\n",
    "import uuid\n",
    "import yaml\n",
    "import zmq\n",
    "from numpy import pi\n",
    "from IPython.display import clear_output\n",
    "import matplotlib.pyplot as plt\n",
    "import numpy as np\n",
    "import qutip as qt"
   ]
  },
  {
   "cell_type": "markdown",
   "metadata": {},
   "source": [
    "# Specify initial pulse and bounds"
   ]
  },
  {
   "cell_type": "code",
   "execution_count": 2,
   "metadata": {
    "code_folding": []
   },
   "outputs": [],
   "source": [
    "from c3po.utils.envelopes import flattop\n",
    "\n",
    "def my_flattop(t, idx, guess):\n",
    "    t_up = guess[idx['t_up']]\n",
    "    t_down = guess[idx['t_down']]\n",
    "    return flattop(t, t_up, t_down)\n",
    "\n",
    "handmade_pulse = {\n",
    "        'control1': {\n",
    "            'carrier1': {\n",
    "                'freq': 6e9*2*pi,\n",
    "                'pulses': {\n",
    "                    'pulse': {\n",
    "                        'params': {\n",
    "                            'amp': 15e6*2*pi,\n",
    "                            't_up': 5e-9,\n",
    "                            't_down': 45e-9,\n",
    "                            'xy_angle': 0,\n",
    "                            'freq_offset': 0e6*2*pi\n",
    "                            },\n",
    "                        'func': my_flattop\n",
    "                        }\n",
    "                    }\n",
    "                }\n",
    "            }\n",
    "        }\n",
    "\n",
    "pulse_bounds = {\n",
    "        'control1': {\n",
    "            'carrier1': {\n",
    "                'pulses': {\n",
    "                    'pulse': {\n",
    "                        'params': {\n",
    "                            'amp': [1e3*2*pi, 1e9*2*pi],\n",
    "                            't_up': [2e-9, 98e-9],\n",
    "                            't_down': [2e-9, 98e-9],\n",
    "#                            'xy_angle': [-pi, pi],\n",
    "                            'freq_offset': [-1e9*2*pi, 1e9*2*pi]\n",
    "                            }\n",
    "                        }\n",
    "                    }\n",
    "                }\n",
    "            }\n",
    "        }"
   ]
  },
  {
   "cell_type": "markdown",
   "metadata": {},
   "source": [
    "# Evaluation function\n",
    "\n",
    "Provide a function, specific to your experimental setup, that takes a several sets of parameters and provides a figure of merit for each."
   ]
  },
  {
   "cell_type": "code",
   "execution_count": 3,
   "metadata": {},
   "outputs": [],
   "source": [
    "def evaluate_pulse(gate, samples):\n",
    "    global search_id\n",
    "    infidelities = []\n",
    "    for q in samples:\n",
    "        pulse_id = str(uuid.uuid4())\n",
    "        clear_output(wait=True)\n",
    "        gate.print_pulse(q)\n",
    "        IQ = gate.get_IQ(q)\n",
    "        T_final = gate.T_final\n",
    "        ts = np.linspace(0, T_final, T_final*1e9)\n",
    "        Is = np.array(IQ['control1']['carrier1']['I'])\n",
    "        Qs = np.array(IQ['control1']['carrier1']['Q'])\n",
    "        non0_mask = np.nonzero(Is * Qs)\n",
    "               \n",
    "        plt.cla()\n",
    "        plt.plot(ts / 1e-9, Is)\n",
    "        plt.plot(ts / 1e-9, Qs)\n",
    "        plt.legend((\"I\", \"Q\"))\n",
    "        plt.ylabel('I/Q')\n",
    "        plt.xlabel('Time[ns]')\n",
    "        plt.tick_params('both',direction='in')\n",
    "        plt.tick_params('both', direction='in')\n",
    "        plt.draw()\n",
    "        fig.canvas.flush_events()\n",
    "        pulse = {}\n",
    "        pulse['I'] = list(Is[non0_mask])  \n",
    "        pulse['Q'] = list(Qs[non0_mask])\n",
    "        pulse['omegas'] = [IQ['control1']['carrier1']['omega']]\n",
    "        pulse['carrier_amp'] = IQ['control1']['carrier1']['amp']\n",
    "        request = {\n",
    "                'search_id': search_id,\n",
    "                'pulse_id': pulse_id,\n",
    "                'pulse': pulse,\n",
    "                'fidelity': 0,\n",
    "                'do_stop': False\n",
    "                }\n",
    "        \n",
    "        socketreq.send_json(request)\n",
    "        receive_message = socketreq.recv_string()        \n",
    "        reply = socketrep.recv_json()\n",
    "        socketrep.send_string(search_id)    \n",
    "        infidelities.append(1-reply['fidelity'])\n",
    "    return infidelities"
   ]
  },
  {
   "cell_type": "markdown",
   "metadata": {},
   "source": [
    "# Import C3PO"
   ]
  },
  {
   "cell_type": "code",
   "execution_count": 4,
   "metadata": {},
   "outputs": [],
   "source": [
    "from c3po.main.gate import Gate as gt\n",
    "from c3po.fidelity.measurement import Experiment as exp_backend"
   ]
  },
  {
   "cell_type": "code",
   "execution_count": 5,
   "metadata": {},
   "outputs": [],
   "source": [
    "X_gate = gt('qubit_1', qt.sigmax())\n",
    "X_gate.set_parameters('initial', handmade_pulse)\n",
    "X_gate.set_bounds(pulse_bounds)\n",
    "\n",
    "fridge = exp_backend(evaluate_pulse)"
   ]
  },
  {
   "cell_type": "markdown",
   "metadata": {},
   "source": [
    "# Communication setup\n",
    "Replace '127.0.0.1' with the IP of the LabView machine. Hostnames might confuse the queue interface."
   ]
  },
  {
   "cell_type": "code",
   "execution_count": 13,
   "metadata": {},
   "outputs": [
    {
     "name": "stdout",
     "output_type": "stream",
     "text": [
      "I am the calibration searcher.\n",
      "My ID for this run is 0e17b29b-6c19-4688-93f8-46b24e290afe\n",
      "\n",
      "Connecting to client tcp://127.0.0.1:5559 ... done\n",
      "\n",
      "\n"
     ]
    }
   ],
   "source": [
    "calibration_daemon_experiment_URI = \"tcp://127.0.0.1:5559\"\n",
    "calibration_daemon_searcher_URI = \"tcp://127.0.0.1:5560\"\n",
    "\n",
    "   \n",
    "rcvtimeout = 30000\n",
    "search_id = str(uuid.uuid4())\n",
    "print(f\"I am the calibration searcher.\\nMy ID for this run is {search_id}\\n\")\n",
    "\n",
    "# Clear old connections\n",
    "if 'socketrep' in globals():\n",
    "    socketrep.unbind(calibration_daemon_searcher_URI)\n",
    "if 'socketreq' in globals():\n",
    "    socketreq.disconnect(calibration_daemon_experiment_URI)\n",
    "\n",
    "# Start communication\n",
    "print(f\"Connecting to client {calibration_daemon_experiment_URI} ... \", flush=True, end='')\n",
    "context = zmq.Context()\n",
    "socketrep = context.socket(zmq.REP)\n",
    "\n",
    "socketrep.bind(calibration_daemon_searcher_URI)\n",
    "\n",
    "socketreq = context.socket(zmq.REQ)\n",
    "socketreq.setsockopt(zmq.LINGER, 0)  #NEW Added by Edwar to flush the queue\n",
    "socketreq.connect(calibration_daemon_experiment_URI)\n",
    "\n",
    "socketrep.RCVTIMEO = rcvtimeout  # added timeout to kill rcv if nothing comes\n",
    "socketreq.RCVTIMEO = rcvtimeout\n",
    "print(f\"done\\n\\n\", flush=True)\n"
   ]
  },
  {
   "cell_type": "markdown",
   "metadata": {},
   "source": [
    "# Calibration"
   ]
  },
  {
   "cell_type": "code",
   "execution_count": 15,
   "metadata": {},
   "outputs": [],
   "source": [
    "data_path = \"/tmp/c3_data/\"\n",
    "optim_name = data_path + \"x_gate_calibration\"\n",
    "if not os.path.isdir(data_path):\n",
    "    os.makedirs(data_path)\n",
    "if not os.path.isdir(optim_name):\n",
    "    os.makedirs(optim_name)"
   ]
  },
  {
   "cell_type": "code",
   "execution_count": 16,
   "metadata": {
    "scrolled": false
   },
   "outputs": [
    {
     "name": "stdout",
     "output_type": "stream",
     "text": [
      "{\n",
      "    \"control1\": {\n",
      "        \"carrier1\": {\n",
      "            \"freq\": 37699111843.077515,\n",
      "            \"pulses\": {\n",
      "                \"pulse\": {\n",
      "                    \"params\": {\n",
      "                        \"amp\": 1230259182.56362,\n",
      "                        \"freq_offset\": -4019373135.805024,\n",
      "                        \"t_down\": 8.166600063073813e-08,\n",
      "                        \"t_up\": 1.718549733948482e-08,\n",
      "                        \"xy_angle\": 0.0\n",
      "                    }\n",
      "                }\n",
      "            }\n",
      "        }\n",
      "    }\n",
      "}\n"
     ]
    },
    {
     "name": "stderr",
     "output_type": "stream",
     "text": [
      "Exception ignored in: <function Context.__del__ at 0x7f3ba5d60620>\n",
      "Traceback (most recent call last):\n",
      "  File \"/usr/lib/python3.7/site-packages/zmq/sugar/context.py\", line 46, in __del__\n",
      "    self.term()\n",
      "  File \"zmq/backend/cython/context.pyx\", line 136, in zmq.backend.cython.context.Context.term\n",
      "  File \"zmq/backend/cython/checkrc.pxd\", line 12, in zmq.backend.cython.checkrc._check_rc\n",
      "KeyboardInterrupt\n"
     ]
    },
    {
     "ename": "KeyboardInterrupt",
     "evalue": "",
     "output_type": "error",
     "traceback": [
      "\u001b[0;31m---------------------------------------------------------------------------\u001b[0m",
      "\u001b[0;31mKeyboardInterrupt\u001b[0m                         Traceback (most recent call last)",
      "\u001b[0;32m<ipython-input-16-86a7373ffd7a>\u001b[0m in \u001b[0;36m<module>\u001b[0;34m\u001b[0m\n\u001b[1;32m     15\u001b[0m \u001b[0mfig\u001b[0m\u001b[0;34m=\u001b[0m \u001b[0mplt\u001b[0m\u001b[0;34m.\u001b[0m\u001b[0mfigure\u001b[0m\u001b[0;34m(\u001b[0m\u001b[0mfigsize\u001b[0m\u001b[0;34m=\u001b[0m\u001b[0;34m(\u001b[0m\u001b[0;36m5\u001b[0m\u001b[0;34m,\u001b[0m \u001b[0;36m4\u001b[0m\u001b[0;34m)\u001b[0m\u001b[0;34m)\u001b[0m\u001b[0;34m\u001b[0m\u001b[0;34m\u001b[0m\u001b[0m\n\u001b[1;32m     16\u001b[0m \u001b[0;34m\u001b[0m\u001b[0m\n\u001b[0;32m---> 17\u001b[0;31m \u001b[0mfridge\u001b[0m\u001b[0;34m.\u001b[0m\u001b[0mcalibrate\u001b[0m\u001b[0;34m(\u001b[0m\u001b[0mX_gate\u001b[0m\u001b[0;34m,\u001b[0m \u001b[0mopts\u001b[0m\u001b[0;34m)\u001b[0m\u001b[0;34m\u001b[0m\u001b[0;34m\u001b[0m\u001b[0m\n\u001b[0m",
      "\u001b[0;32m/localdisk/nwittler/c3po/c3po/fidelity/measurement.py\u001b[0m in \u001b[0;36mcalibrate\u001b[0;34m(self, gate, opts, start_name, calib_name)\u001b[0m\n\u001b[1;32m    110\u001b[0m                     self.evaluate_gate(\n\u001b[1;32m    111\u001b[0m                         \u001b[0mgate\u001b[0m\u001b[0;34m,\u001b[0m\u001b[0;34m\u001b[0m\u001b[0;34m\u001b[0m\u001b[0m\n\u001b[0;32m--> 112\u001b[0;31m                         \u001b[0msamples_rescaled\u001b[0m\u001b[0;34m,\u001b[0m\u001b[0;34m\u001b[0m\u001b[0;34m\u001b[0m\u001b[0m\n\u001b[0m\u001b[1;32m    113\u001b[0m                         )\n\u001b[1;32m    114\u001b[0m                     )\n",
      "\u001b[0;32m<ipython-input-3-fd2fc1840537>\u001b[0m in \u001b[0;36mevaluate_pulse\u001b[0;34m(gate, samples)\u001b[0m\n\u001b[1;32m     37\u001b[0m \u001b[0;34m\u001b[0m\u001b[0m\n\u001b[1;32m     38\u001b[0m         \u001b[0msocketreq\u001b[0m\u001b[0;34m.\u001b[0m\u001b[0msend_json\u001b[0m\u001b[0;34m(\u001b[0m\u001b[0mrequest\u001b[0m\u001b[0;34m)\u001b[0m\u001b[0;34m\u001b[0m\u001b[0;34m\u001b[0m\u001b[0m\n\u001b[0;32m---> 39\u001b[0;31m         \u001b[0mreceive_message\u001b[0m \u001b[0;34m=\u001b[0m \u001b[0msocketreq\u001b[0m\u001b[0;34m.\u001b[0m\u001b[0mrecv_string\u001b[0m\u001b[0;34m(\u001b[0m\u001b[0;34m)\u001b[0m\u001b[0;34m\u001b[0m\u001b[0;34m\u001b[0m\u001b[0m\n\u001b[0m\u001b[1;32m     40\u001b[0m         \u001b[0mreply\u001b[0m \u001b[0;34m=\u001b[0m \u001b[0msocketrep\u001b[0m\u001b[0;34m.\u001b[0m\u001b[0mrecv_json\u001b[0m\u001b[0;34m(\u001b[0m\u001b[0;34m)\u001b[0m\u001b[0;34m\u001b[0m\u001b[0;34m\u001b[0m\u001b[0m\n\u001b[1;32m     41\u001b[0m         \u001b[0msocketrep\u001b[0m\u001b[0;34m.\u001b[0m\u001b[0msend_string\u001b[0m\u001b[0;34m(\u001b[0m\u001b[0msearch_id\u001b[0m\u001b[0;34m)\u001b[0m\u001b[0;34m\u001b[0m\u001b[0;34m\u001b[0m\u001b[0m\n",
      "\u001b[0;32m/usr/lib/python3.7/site-packages/zmq/sugar/socket.py\u001b[0m in \u001b[0;36mrecv_string\u001b[0;34m(self, flags, encoding)\u001b[0m\n\u001b[1;32m    585\u001b[0m             \u001b[0;32mfor\u001b[0m \u001b[0many\u001b[0m \u001b[0mof\u001b[0m \u001b[0mthe\u001b[0m \u001b[0mreasons\u001b[0m \u001b[0;34m:\u001b[0m\u001b[0mfunc\u001b[0m\u001b[0;34m:\u001b[0m\u001b[0;31m`\u001b[0m\u001b[0;34m~\u001b[0m\u001b[0mSocket\u001b[0m\u001b[0;34m.\u001b[0m\u001b[0mrecv\u001b[0m\u001b[0;31m`\u001b[0m \u001b[0mmight\u001b[0m \u001b[0mfail\u001b[0m\u001b[0;34m\u001b[0m\u001b[0;34m\u001b[0m\u001b[0m\n\u001b[1;32m    586\u001b[0m         \"\"\"\n\u001b[0;32m--> 587\u001b[0;31m         \u001b[0mmsg\u001b[0m \u001b[0;34m=\u001b[0m \u001b[0mself\u001b[0m\u001b[0;34m.\u001b[0m\u001b[0mrecv\u001b[0m\u001b[0;34m(\u001b[0m\u001b[0mflags\u001b[0m\u001b[0;34m=\u001b[0m\u001b[0mflags\u001b[0m\u001b[0;34m)\u001b[0m\u001b[0;34m\u001b[0m\u001b[0;34m\u001b[0m\u001b[0m\n\u001b[0m\u001b[1;32m    588\u001b[0m         \u001b[0;32mreturn\u001b[0m \u001b[0mself\u001b[0m\u001b[0;34m.\u001b[0m\u001b[0m_deserialize\u001b[0m\u001b[0;34m(\u001b[0m\u001b[0mmsg\u001b[0m\u001b[0;34m,\u001b[0m \u001b[0;32mlambda\u001b[0m \u001b[0mbuf\u001b[0m\u001b[0;34m:\u001b[0m \u001b[0mbuf\u001b[0m\u001b[0;34m.\u001b[0m\u001b[0mdecode\u001b[0m\u001b[0;34m(\u001b[0m\u001b[0mencoding\u001b[0m\u001b[0;34m)\u001b[0m\u001b[0;34m)\u001b[0m\u001b[0;34m\u001b[0m\u001b[0;34m\u001b[0m\u001b[0m\n\u001b[1;32m    589\u001b[0m \u001b[0;34m\u001b[0m\u001b[0m\n",
      "\u001b[0;32mzmq/backend/cython/socket.pyx\u001b[0m in \u001b[0;36mzmq.backend.cython.socket.Socket.recv\u001b[0;34m()\u001b[0m\n",
      "\u001b[0;32mzmq/backend/cython/socket.pyx\u001b[0m in \u001b[0;36mzmq.backend.cython.socket.Socket.recv\u001b[0;34m()\u001b[0m\n",
      "\u001b[0;32mzmq/backend/cython/socket.pyx\u001b[0m in \u001b[0;36mzmq.backend.cython.socket._recv_copy\u001b[0;34m()\u001b[0m\n",
      "\u001b[0;32m/usr/lib/python3.7/site-packages/zmq/backend/cython/checkrc.pxd\u001b[0m in \u001b[0;36mzmq.backend.cython.checkrc._check_rc\u001b[0;34m()\u001b[0m\n",
      "\u001b[0;31mKeyboardInterrupt\u001b[0m: "
     ]
    }
   ],
   "source": [
    "pwd = optim_name+\"/\"+time.strftime(\"%d%m%y-%H%M%S\", time.localtime())\n",
    "os.makedirs(pwd)\n",
    "\n",
    "opts = {\n",
    "    'CMA_stds' : [1,1,1,1],\n",
    "    'ftarget' : 1e-4,\n",
    "    'popsize' : 20\n",
    "}\n",
    "\n",
    "\n",
    "%matplotlib\n",
    "plt.rcParams['figure.dpi'] = 100\n",
    "plt.ion()\n",
    "plt.show()\n",
    "fig= plt.figure(figsize=(5, 4))\n",
    "\n",
    "fridge.calibrate(X_gate, opts)"
   ]
  },
  {
   "cell_type": "code",
   "execution_count": null,
   "metadata": {},
   "outputs": [],
   "source": []
  }
 ],
 "metadata": {
  "kernelspec": {
   "display_name": "Python 3",
   "language": "python",
   "name": "python3"
  },
  "language_info": {
   "codemirror_mode": {
    "name": "ipython",
    "version": 3
   },
   "file_extension": ".py",
   "mimetype": "text/x-python",
   "name": "python",
   "nbconvert_exporter": "python",
   "pygments_lexer": "ipython3",
   "version": "3.7.3"
  },
  "toc": {
   "base_numbering": 1,
   "nav_menu": {},
   "number_sections": true,
   "sideBar": true,
   "skip_h1_title": false,
   "title_cell": "Table of Contents",
   "title_sidebar": "Contents",
   "toc_cell": false,
   "toc_position": {
    "height": "calc(100% - 180px)",
    "left": "10px",
    "top": "150px",
    "width": "260px"
   },
   "toc_section_display": true,
   "toc_window_display": true
  },
  "varInspector": {
   "cols": {
    "lenName": 16,
    "lenType": 16,
    "lenVar": 40
   },
   "kernels_config": {
    "python": {
     "delete_cmd_postfix": "",
     "delete_cmd_prefix": "del ",
     "library": "var_list.py",
     "varRefreshCmd": "print(var_dic_list())"
    },
    "r": {
     "delete_cmd_postfix": ") ",
     "delete_cmd_prefix": "rm(",
     "library": "var_list.r",
     "varRefreshCmd": "cat(var_dic_list()) "
    }
   },
   "position": {
    "height": "1194px",
    "left": "1857px",
    "right": "20px",
    "top": "132px",
    "width": "686px"
   },
   "types_to_exclude": [
    "module",
    "function",
    "builtin_function_or_method",
    "instance",
    "_Feature"
   ],
   "window_display": true
  }
 },
 "nbformat": 4,
 "nbformat_minor": 2
}
