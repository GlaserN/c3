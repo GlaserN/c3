{
 "cells": [
  {
   "cell_type": "markdown",
   "metadata": {},
   "source": [
    "# Imports"
   ]
  },
  {
   "cell_type": "code",
   "execution_count": 18,
   "metadata": {},
   "outputs": [],
   "source": [
    "from c3po.examples.chalmers_pulses import *\n",
    "\n",
    "# REQUIRED for c3\n",
    "import qutip as qt\n",
    "# FUTURE: import tensorflow as tf \n",
    "# REASON: tensorflow will become a hard requirement for c3 as certain \n",
    "#         functionality (i.e. GOAT) will depend on it\n",
    "\n",
    "\n",
    "# import parts of c3 that are needed for the task at hand \n",
    "from c3po.main.gate import Gate as gt\n",
    "from c3po.fidelity.measurement import Experiment as exp_backend\n",
    "\n",
    "\n",
    "# optional/additional imports \n",
    "from math import * # pi \n",
    "import numpy as np\n",
    "import matplotlib.pyplot as plt  # for plotting\n",
    "import os   # for interacting with operating system, i.e. creating files"
   ]
  },
  {
   "cell_type": "markdown",
   "metadata": {},
   "source": [
    "# connection to local experimental setup\n",
    "  \n",
    "how is the data given by the optimizer transmitted to the local experimental setup?"
   ]
  },
  {
   "cell_type": "code",
   "execution_count": 19,
   "metadata": {},
   "outputs": [],
   "source": [
    "# EXAMPLE: communication via sockets\n",
    "\n",
    "def create_socket():\n",
    "\n",
    "    # PLACEHOLDER\n",
    "\n",
    "    return 0\n",
    "\n",
    "\n",
    "def send_data(socket, data):\n",
    "\n",
    "    # PLACEHOLDER\n",
    "\n",
    "    return 0\n",
    "\n",
    "\n",
    "def read_data(socket):\n",
    "\n",
    "    # PLACEHOLDER\n",
    "\n",
    "    return 0"
   ]
  },
  {
   "cell_type": "markdown",
   "metadata": {},
   "source": [
    "# pulse specification in c3\n"
   ]
  },
  {
   "cell_type": "markdown",
   "metadata": {},
   "source": [
    "## Example: Cosine Pulse"
   ]
  },
  {
   "cell_type": "code",
   "execution_count": 20,
   "metadata": {},
   "outputs": [],
   "source": [
    "pulse1 = Cosine(False)\n",
    "pulse1.amplitude = 0.5\n",
    "pulse1.width = 10E-9\n",
    "pulse1.plateau = 0.4e-7\n",
    "pulse1.frequency = 0.0\n",
    "pulse1.phase = 0.0\n",
    "pulse1.use_drag = False\n",
    "pulse1.drag_coefficient = 0.0\n",
    "pulse1.drag_detuning = 0.0\n",
    "pulse1.start_at_zero = False\n",
    "pulse1.complex = False\n",
    "\n",
    "# gate.T_final=100e-9\n",
    "\n",
    "t0 = 50e-9\n",
    "\n",
    "# chalmers <=>  c3\n",
    "#    ?     <=> freq\n",
    "\n",
    "# in calculate_waveform:\n",
    "#    y     <=> amp * envelope(ts, p_idx, guess) \n",
    "# solution1: create pulse object in chalmers code with amplitude = 1 but set amp in pulse specification for c3 to \n",
    "#            the right value\n",
    "# solution2: rewrite in chalmers code 'calculate_envelope' to give y without amp\n",
    "# solution3: extract/copy 'calculate_envelope' from chalmers code and modify it in c3 file to fit the new needs\n",
    "\n",
    "#    omega <=> freq_offset\n",
    "#    phase <=> xy_angle\n",
    "\n",
    "\n",
    "\n",
    "def cos_envelope(t, idx, guess):\n",
    "    tau = guess[idx['width']]\n",
    "    plateau = guess[idx['plateau']]\n",
    "    t0 = guess[idx['t0']]\n",
    "    if plateau == 0:\n",
    "        values = (1.0 / 2.0 *\n",
    "                  (1 - np.cos(2 * np.pi * (t - t0 + tau / 2) / tau)))\n",
    "    else:\n",
    "        values = np.ones_like(t)\n",
    "        values[t < t0 - plateau / 2] = 1.0 / 2.0 * \\\n",
    "            (1 - np.cos(2 * np.pi *\n",
    "                        (t[t < t0 - plateau / 2] - t0 +\n",
    "                         plateau / 2 + tau / 2) / tau))\n",
    "        values[t > t0 + plateau / 2] = 1.0 / 2.0 * \\\n",
    "            (1 - np.cos(2 * np.pi *\n",
    "                        (t[t > t0 + plateau / 2] - t0 -\n",
    "                         plateau / 2 + tau / 2) / tau))\n",
    "        \n",
    "    total_duration = tau + plateau # why not 2 * width?\n",
    "        \n",
    "    values[t < (t0 - total_duration / 2)] = 0\n",
    "    values[t > (t0 + total_duration / 2)] = 0        \n",
    "\n",
    "    return values    \n",
    "    \n",
    "    \n",
    "cosine_pulse = {\n",
    "    'control1':{\n",
    "        'carrier1':{\n",
    "            'freq' : 6e9*2*pi, #taken from above example still needs to be adjusted to chalmers setup\n",
    "            'pulses':{\n",
    "                'pulse':{\n",
    "                    #the token 'pulse' is free to chose i.e. 'pulse1', 'pulseX', 'p1', ...\n",
    "                    'params': {\n",
    "                            # required:\n",
    "                            'amp': pulse1.amplitude, \n",
    "                            'xy_angle': pulse1.phase, \n",
    "                            'freq_offset': 2*pi*pulse1.frequency, #corresponds to omega in calculate_envelope\n",
    "                            # optional (params for 'func')\n",
    "                            'width': pulse1.width,\n",
    "                            'plateau': pulse1.plateau,\n",
    "                            't0': t0\n",
    "                            # self.use_drag = False\n",
    "                            # self.drag_coefficient = 0.0\n",
    "                            # self.drag_detuning = 0.0\n",
    "                            # self.start_at_zero = False\n",
    "                        },\n",
    "                    'func': cos_envelope\n",
    "                    }                    \n",
    "                }\n",
    "            }\n",
    "        }\n",
    "    }\n",
    "\n",
    "\n",
    "# everything that appears in bounds will appear in the optimizer (everything that appears here NEEDS to be specified\n",
    "# first in the pulse dict). if you don't want to optimize something don't put it in bounds\n",
    "pulse_bounds = {\n",
    "\n",
    "    # PLACEHOLDER\n",
    "\n",
    "}"
   ]
  },
  {
   "cell_type": "markdown",
   "metadata": {},
   "source": [
    "## Example: Gaussian Pulse"
   ]
  },
  {
   "cell_type": "code",
   "execution_count": 21,
   "metadata": {},
   "outputs": [],
   "source": [
    "pulse2 = Gaussian(False)\n",
    "pulse2.amplitude = 0.5\n",
    "pulse2.width = 10E-9\n",
    "pulse2.plateau = 0.4e-7\n",
    "pulse2.frequency = 0.0\n",
    "pulse2.phase = 0.0\n",
    "pulse2.use_drag = False\n",
    "pulse2.drag_coefficient = 0.0\n",
    "pulse2.drag_detuning = 0.0\n",
    "pulse2.start_at_zero = False\n",
    "pulse2.complex = False\n",
    "\n",
    "# gate.T_final=100e-9\n",
    "\n",
    "t0 = 50e-9\n",
    "\n",
    "def gauss_envelope(t, idx, guess):\n",
    "    width = guess[idx['width']]\n",
    "    plateau = guess[idx['plateau']]\n",
    "    t0 = guess[idx['t0']]\n",
    "    start_at_zero = guess[idx['start_at_zero']]\n",
    "    # width is two t std\n",
    "    # std = self.width/2;\n",
    "    # alternate; std is set to give total pulse area same as a square\n",
    "    std = width / np.sqrt(2 * np.pi)\n",
    "    values = np.zeros_like(t)\n",
    "    if plateau == 0:\n",
    "        # pure gaussian, no plateau\n",
    "        if std > 0:\n",
    "            values = np.exp(-(t - t0)**2 / (2 * std**2))\n",
    "    else:\n",
    "        # add plateau\n",
    "        values = np.array(\n",
    "            ((t >= (t0 - plateau / 2)) & (t <\n",
    "                                               (t0 + plateau / 2))),\n",
    "            dtype=float)\n",
    "        if std > 0:\n",
    "            # before plateau\n",
    "            values += ((t < (t0 - plateau / 2)) * np.exp(\n",
    "                -(t - (t0 - plateau / 2))**2 / (2 * std**2)))\n",
    "            # after plateau\n",
    "            values += ((t >= (t0 + plateau / 2)) * np.exp(\n",
    "                -(t - (t0 + plateau / 2))**2 / (2 * std**2)))\n",
    "\n",
    "    # TODO  Fix this\n",
    "    if start_at_zero:\n",
    "        values = values - values.min()\n",
    "        values = values / values.max()\n",
    "    #values = values * self.amplitude\n",
    "\n",
    "    truncation_range = 5\n",
    "    total_duration = truncation_range * width + plateau\n",
    "    \n",
    "    # Make sure the waveform is zero outside the pulse\n",
    "    values[t < (t0 - total_duration / 2)] = 0\n",
    "    values[t > (t0 + total_duration / 2)] = 0\n",
    "    \n",
    "    return values\n",
    "\n",
    "\n",
    "gaussian_pulse = {\n",
    "    'control1':{\n",
    "        'carrier1':{\n",
    "            'freq' : 6e9*2*pi, #taken from above example still needs to be adjusted to chalmers setup\n",
    "            'pulses':{\n",
    "                'pulse':{ #the token 'pulse' is free to chose i.e. 'pulse1', 'pulseX', 'p1', ...\n",
    "                    'params': {\n",
    "                            # required:\n",
    "                            'amp': pulse2.amplitude, \n",
    "                            'xy_angle': pulse2.phase, \n",
    "                            'freq_offset': 2*pi*pulse2.frequency, #corresponds to omega in calculate_envelope\n",
    "                            # optional (params for 'func'):\n",
    "                            'width': pulse2.width,\n",
    "                            'plateau': pulse2.plateau,\n",
    "                            't0': t0,\n",
    "                            # self.use_drag = False\n",
    "                            # self.drag_coefficient = 0.0\n",
    "                            # self.drag_detuning = 0.0\n",
    "                            'start_at_zero': pulse2.start_at_zero\n",
    "                        },\n",
    "                    'func': gauss_envelope\n",
    "                    }                    \n",
    "                }\n",
    "            }\n",
    "        }\n",
    "    }"
   ]
  },
  {
   "cell_type": "markdown",
   "metadata": {},
   "source": [
    "# creation of gate object\n",
    "\n",
    "Represents a quantum gate with a fixed parametrization and envelope shape. \n"
   ]
  },
  {
   "cell_type": "code",
   "execution_count": 22,
   "metadata": {},
   "outputs": [],
   "source": [
    "# EXAMPLE: Assume X_gate is target of operation\n",
    "\n",
    "X_gate = gt('qubit_1', qt.sigmax())\n",
    "X_gate.set_parameters('initial', cosine_pulse)\n",
    "#X_gate.set_bounds(pulse_bounds)\n",
    "\n",
    "# default values in gate\n",
    "T_final=100e-9\n",
    "res=1e9\n",
    "\n",
    "t = np.linspace(0, T_final, int(T_final*res))\n",
    "iq = X_gate.get_IQ('initial')"
   ]
  },
  {
   "cell_type": "code",
   "execution_count": 23,
   "metadata": {
    "scrolled": false
   },
   "outputs": [
    {
     "data": {
      "image/png": "[encoded data removed]",
      "text/plain": [
       "<Figure size 432x288 with 1 Axes>"
      ]
     },
     "metadata": {
      "needs_background": "light"
     },
     "output_type": "display_data"
    }
   ],
   "source": [
    "#print(iq['control1']['carrier1']['I'])\n",
    "plt.plot(t,iq['control1']['carrier1']['I'])\n",
    "plt.show()"
   ]
  },
  {
   "cell_type": "code",
   "execution_count": 24,
   "metadata": {
    "scrolled": false
   },
   "outputs": [
    {
     "data": {
      "image/png": "[encoded data removed]",
      "text/plain": [
       "<Figure size 432x288 with 1 Axes>"
      ]
     },
     "metadata": {
      "needs_background": "light"
     },
     "output_type": "display_data"
    }
   ],
   "source": [
    "# amplitude scaling seems to be incorrect. factor 0.5 too much?\n",
    "\n",
    "wf = pulse1.calculate_waveform(t0, t)\n",
    "\n",
    "plt.plot(t,wf)\n",
    "plt.show()"
   ]
  },
  {
   "cell_type": "code",
   "execution_count": 25,
   "metadata": {},
   "outputs": [],
   "source": [
    "# EXAMPLE: Assume X_gate is target of operation\n",
    "\n",
    "X_gate = gt('qubit_1', qt.sigmax())\n",
    "X_gate.set_parameters('initial', gaussian_pulse)\n",
    "#X_gate.set_bounds(pulse_bounds)\n",
    "\n",
    "# default values in gate\n",
    "T_final=100e-9\n",
    "res=1e9\n",
    "\n",
    "t = np.linspace(0, T_final, int(T_final*res))\n",
    "iq = X_gate.get_IQ('initial')"
   ]
  },
  {
   "cell_type": "code",
   "execution_count": 26,
   "metadata": {
    "scrolled": false
   },
   "outputs": [
    {
     "data": {
      "image/png": "[encoded data removed]",
      "text/plain": [
       "<Figure size 432x288 with 1 Axes>"
      ]
     },
     "metadata": {
      "needs_background": "light"
     },
     "output_type": "display_data"
    }
   ],
   "source": [
    "#print(iq['control1']['carrier1']['I'])\n",
    "plt.plot(t,iq['control1']['carrier1']['I'])\n",
    "plt.show()"
   ]
  },
  {
   "cell_type": "code",
   "execution_count": 27,
   "metadata": {},
   "outputs": [
    {
     "data": {
      "image/png": "[encoded data removed]",
      "text/plain": [
       "<Figure size 432x288 with 1 Axes>"
      ]
     },
     "metadata": {
      "needs_background": "light"
     },
     "output_type": "display_data"
    }
   ],
   "source": [
    "# amplitude scaling seems to be incorrect. factor 0.5 too much?\n",
    "\n",
    "wf = pulse2.calculate_waveform(t0, t)\n",
    "\n",
    "plt.plot(t,wf)\n",
    "plt.show()"
   ]
  },
  {
   "cell_type": "markdown",
   "metadata": {},
   "source": [
    "# evaluation function\n",
    "\n",
    "Provide a function, specific to your experimental setup, that takes a several sets of parameters and provides a figure of merit for each."
   ]
  },
  {
   "cell_type": "code",
   "execution_count": 28,
   "metadata": {},
   "outputs": [],
   "source": [
    "def evaluate_pulse(gate, samples):\n",
    "\n",
    "    # PLACEHOLDER\n",
    "    #   send pulses to experiment and receive output \n",
    "\n",
    "    infidelities = 0\n",
    "    return infidelities"
   ]
  },
  {
   "cell_type": "markdown",
   "metadata": {},
   "source": [
    "# creation of experiment object \n",
    "driver for an experiment"
   ]
  },
  {
   "cell_type": "code",
   "execution_count": 29,
   "metadata": {},
   "outputs": [],
   "source": [
    "# EXAMPLE:\n",
    "\n",
    "fridge = exp_backend(evaluate_pulse)"
   ]
  },
  {
   "cell_type": "markdown",
   "metadata": {},
   "source": [
    "# calibration"
   ]
  },
  {
   "cell_type": "code",
   "execution_count": null,
   "metadata": {},
   "outputs": [],
   "source": [
    "# EXAMPLE:\n",
    "\n",
    "# create paths for storing results of calibration process\n",
    "data_path = \"/tmp/c3_data/\"\n",
    "optim_name = data_path + \"x_gate_calibration\"\n",
    "if not os.path.isdir(data_path):\n",
    "    os.makedirs(data_path)\n",
    "if not os.path.isdir(optim_name):\n",
    "    os.makedirs(optim_name)\n",
    "\n",
    "\n",
    "# change working path to \n",
    "ptim_name+\"/\"+time.strftime(\"%d%m%y-%H%M%S\", time.localtime())\n",
    "os.makedirs(pwd)\n",
    "\n",
    "# input for function calibrate of Experiment obj \n",
    "\n",
    "opts = {\n",
    "    'CMA_stds' : [1, 1, 1, 1, 1],\n",
    "    'ftarget' : 1e-4,\n",
    "    'popsize' : 20\n",
    "}\n",
    "\n",
    "# start calibration:\n",
    "# Provide a gate to be calibrated with a gradient free search algorithm.\n",
    "# At the moment this is CMA-ES and you can give valid opts to the cma-es \n",
    "# optimizer\n",
    "\n",
    "fridge.calibrate(X_gate, opts)\n",
    "\n",
    "# Q: Incorporate Chalmers calibration?\n",
    "#       - Nelder-Mead.py\n",
    "#       - Bayesian-Gaussian-Process.py"
   ]
  }
 ],
 "metadata": {
  "kernelspec": {
   "display_name": "c3po",
   "language": "python",
   "name": "c3po"
  },
  "language_info": {
   "codemirror_mode": {
    "name": "ipython",
    "version": 3
   },
   "file_extension": ".py",
   "mimetype": "text/x-python",
   "name": "python",
   "nbconvert_exporter": "python",
   "pygments_lexer": "ipython3",
   "version": "3.7.3"
  }
 },
 "nbformat": 4,
 "nbformat_minor": 2
}
