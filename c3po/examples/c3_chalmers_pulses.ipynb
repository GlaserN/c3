{
 "cells": [
  {
   "cell_type": "markdown",
   "metadata": {},
   "source": [
    "# Pulse Creation by Chalmers"
   ]
  },
  {
   "cell_type": "code",
   "execution_count": 98,
   "metadata": {},
   "outputs": [],
   "source": [
    "class Pulse:\n",
    "    \"\"\"Represents physical pulses played by an AWG.\n",
    "\n",
    "    Parameters\n",
    "    ----------\n",
    "    complex : bool\n",
    "        If True, pulse has both I and Q, otherwise it's real valued.\n",
    "        Drag only applies for complex waveforms.\n",
    "\n",
    "    Attributes\n",
    "    ----------\n",
    "    amplitude : float\n",
    "        Pulse amplitude.\n",
    "    width : float\n",
    "        Pulse width.\n",
    "    plateau : float\n",
    "        Pulse plateau.\n",
    "    frequency : float\n",
    "        SSB frequency.\n",
    "    phase : float\n",
    "        Pulse phase.\n",
    "    use_drag : bool\n",
    "        If True, applies DRAG correction.\n",
    "    drag_coefficient : float\n",
    "        Drag coefficient.\n",
    "    drag_detuning : float\n",
    "        Applies a frequnecy detuning for DRAG pulses.\n",
    "    start_at_zero : bool\n",
    "        If True, forces the pulse to start in 0.\n",
    "\n",
    "    \"\"\"\n",
    "\n",
    "    def __init__(self, complex):\n",
    "\n",
    "        # set variables\n",
    "        self.amplitude = 0.5\n",
    "        self.width = 10E-9\n",
    "        self.plateau = 0.0\n",
    "        self.frequency = 0.0\n",
    "        self.phase = 0.0\n",
    "        self.use_drag = False\n",
    "        self.drag_coefficient = 0.0\n",
    "        self.drag_detuning = 0.0\n",
    "        self.start_at_zero = False\n",
    "        self.complex = complex\n",
    "\n",
    "    def total_duration(self):\n",
    "        \"\"\"Get the total duration for the pulse.\n",
    "\n",
    "        Returns\n",
    "        -------\n",
    "        float\n",
    "            Total duration in seconds.\n",
    "\n",
    "        \"\"\"\n",
    "        raise NotImplementedError()\n",
    "\n",
    "    def calculate_envelope(self, t0, t):\n",
    "        \"\"\"Calculate pulse envelope.\n",
    "\n",
    "        Parameters\n",
    "        ----------\n",
    "        t0 : float\n",
    "            Pulse position, referenced to center of pulse.\n",
    "\n",
    "        t : numpy array\n",
    "            Array with time values for which to calculate the pulse envelope.\n",
    "\n",
    "        Returns\n",
    "        -------\n",
    "        waveform : numpy array\n",
    "            Array containing pulse envelope.\n",
    "\n",
    "        \"\"\"\n",
    "        raise NotImplementedError()\n",
    "\n",
    "    def calculate_waveform(self, t0, t):\n",
    "        \"\"\"Calculate pulse waveform including phase shifts and SSB-mixing.\n",
    "\n",
    "        Parameters\n",
    "        ----------\n",
    "        t0 : float\n",
    "            Pulse position, referenced to center of pulse.\n",
    "\n",
    "        t : numpy array\n",
    "            Array with time values for which to calculate the pulse waveform.\n",
    "\n",
    "        Returns\n",
    "        -------\n",
    "        waveform : numpy array\n",
    "            Array containing pulse waveform.\n",
    "\n",
    "        \"\"\"\n",
    "        y = self.calculate_envelope(t0, t)\n",
    "        # Make sure the waveform is zero outside the pulse\n",
    "        y[t < (t0 - self.total_duration() / 2)] = 0\n",
    "        y[t > (t0 + self.total_duration() / 2)] = 0\n",
    "\n",
    "        if self.use_drag and self.complex:\n",
    "            beta = self.drag_coefficient / (t[1] - t[0])\n",
    "            y = y + 1j * beta * np.gradient(y)\n",
    "            y = y * np.exp(1j * 2 * np.pi * self.drag_detuning *\n",
    "                           (t - t0 + self.total_duration() / 2))\n",
    "\n",
    "        if self.complex:\n",
    "            # Apply phase and SSB\n",
    "            phase = self.phase\n",
    "            # single-sideband mixing, get frequency\n",
    "            omega = 2 * np.pi * self.frequency\n",
    "            # apply SSBM transform\n",
    "            data_i = (y.real * np.cos(omega * t - phase) +\n",
    "                      -y.imag * np.cos(omega * t - phase + +np.pi / 2))\n",
    "            data_q = (y.real * np.sin(omega * t - phase) +\n",
    "                      -y.imag * np.sin(omega * t - phase + +np.pi / 2))\n",
    "            y = data_i + 1j * data_q\n",
    "        else:\n",
    "            phase = self.phase\n",
    "            omega = 2 * np.pi * self.frequency\n",
    "            y = y * np.cos(omega*t-phase)\n",
    "        return y\n",
    "\n",
    "\n",
    "class Gaussian(Pulse):\n",
    "    def __init__(self, complex):\n",
    "        super().__init__(complex)\n",
    "        self.truncation_range = 5\n",
    "\n",
    "    def total_duration(self):\n",
    "        return self.truncation_range * self.width + self.plateau\n",
    "\n",
    "    def calculate_envelope(self, t0, t):\n",
    "        # width is two t std\n",
    "        # std = self.width/2;\n",
    "        # alternate; std is set to give total pulse area same as a square\n",
    "        std = self.width / np.sqrt(2 * np.pi)\n",
    "        values = np.zeros_like(t)\n",
    "        if self.plateau == 0:\n",
    "            # pure gaussian, no plateau\n",
    "            if std > 0:\n",
    "                values = np.exp(-(t - t0)**2 / (2 * std**2))\n",
    "        else:\n",
    "            # add plateau\n",
    "            values = np.array(\n",
    "                ((t >= (t0 - self.plateau / 2)) & (t <\n",
    "                                                   (t0 + self.plateau / 2))),\n",
    "                dtype=float)\n",
    "            if std > 0:\n",
    "                # before plateau\n",
    "                values += ((t < (t0 - self.plateau / 2)) * np.exp(\n",
    "                    -(t - (t0 - self.plateau / 2))**2 / (2 * std**2)))\n",
    "                # after plateau\n",
    "                values += ((t >= (t0 + self.plateau / 2)) * np.exp(\n",
    "                    -(t - (t0 + self.plateau / 2))**2 / (2 * std**2)))\n",
    "\n",
    "        # TODO  Fix this\n",
    "        if self.start_at_zero:\n",
    "            values = values - values.min()\n",
    "            values = values / values.max()\n",
    "        values = values * self.amplitude\n",
    "\n",
    "        return values\n",
    "\n",
    "\n",
    "class Ramp(Pulse):\n",
    "    def total_duration(self):\n",
    "        return 2 * self.width + self.plateau\n",
    "\n",
    "    def calculate_envelope(self, t0, t):\n",
    "        # rising and falling slopes\n",
    "        vRise = ((t - (t0 - self.plateau / 2 - self.width)) / self.width)\n",
    "        vRise[vRise < 0.0] = 0.0\n",
    "        vRise[vRise > 1.0] = 1.0\n",
    "        vFall = (((t0 + self.plateau / 2 + self.width) - t) / self.width)\n",
    "        vFall[vFall < 0.0] = 0.0\n",
    "        vFall[vFall > 1.0] = 1.0\n",
    "        values = vRise * vFall\n",
    "\n",
    "        values = values * self.amplitude\n",
    "\n",
    "        return values\n",
    "\n",
    "\n",
    "class Square(Pulse):\n",
    "    def total_duration(self):\n",
    "        return self.width + self.plateau\n",
    "\n",
    "    def calculate_envelope(self, t0, t):\n",
    "        # reduce risk of rounding errors by putting checks between samples\n",
    "        if len(t) > 1:\n",
    "            t0 += (t[1] - t[0]) / 2.0\n",
    "\n",
    "        values = ((t >= (t0 - (self.width + self.plateau) / 2)) &\n",
    "                  (t < (t0 + (self.width + self.plateau) / 2)))\n",
    "\n",
    "        values = values * self.amplitude\n",
    "\n",
    "        return values\n",
    "\n",
    "\n",
    "class Cosine(Pulse):\n",
    "    def total_duration(self):\n",
    "        return self.width + self.plateau\n",
    "\n",
    "    def calculate_envelope(self, t0, t):\n",
    "        tau = self.width\n",
    "        if self.plateau == 0:\n",
    "            values = (self.amplitude / 2 *\n",
    "                      (1 - np.cos(2 * np.pi * (t - t0 + tau / 2) / tau)))\n",
    "        else:\n",
    "            values = np.ones_like(t) * self.amplitude\n",
    "            values[t < t0 - self.plateau / 2] = self.amplitude / 2 * \\\n",
    "                (1 - np.cos(2 * np.pi *\n",
    "                            (t[t < t0 - self.plateau / 2] - t0 +\n",
    "                             self.plateau / 2 + tau / 2) / tau))\n",
    "            values[t > t0 + self.plateau / 2] = self.amplitude / 2 * \\\n",
    "                (1 - np.cos(2 * np.pi *\n",
    "                            (t[t > t0 + self.plateau / 2] - t0 -\n",
    "                             self.plateau / 2 + tau / 2) / tau))\n",
    "\n",
    "        return values\n",
    "\n",
    "\n",
    "class CZ(Pulse):\n",
    "    def __init__(self, *args, **kwargs):\n",
    "        super().__init__(False)\n",
    "        # For CZ pulses\n",
    "        self.F_Terms = 1\n",
    "        self.Coupling = 20E6\n",
    "        self.Offset = 300E6\n",
    "        self.Lcoeff = np.array([0.3])\n",
    "        self.dfdV = 500E6\n",
    "        self.qubit = None\n",
    "        self.negative_amplitude = False\n",
    "\n",
    "        self.t_tau = None\n",
    "\n",
    "    def total_duration(self):\n",
    "        return self.width+self.plateau\n",
    "\n",
    "    def calculate_envelope(self, t0, t):\n",
    "        if self.t_tau is None:\n",
    "            self.calculate_cz_waveform()\n",
    "\n",
    "        # Plateau is added as an extra extension of theta_f.\n",
    "        theta_t = np.ones(len(t)) * self.theta_i\n",
    "        for i in range(len(t)):\n",
    "            if 0 < (t[i] - t0 + self.plateau / 2) < self.plateau:\n",
    "                theta_t[i] = self.theta_f\n",
    "            elif (0 < (t[i] - t0 + self.width / 2 + self.plateau / 2) <\n",
    "                  (self.width + self.plateau) / 2):\n",
    "                theta_t[i] = np.interp(\n",
    "                    t[i] - t0 + self.width / 2 + self.plateau / 2, self.t_tau,\n",
    "                    self.theta_tau)\n",
    "            elif (0 < (t[i] - t0 + self.width / 2 + self.plateau / 2) <\n",
    "                  (self.width + self.plateau)):\n",
    "                theta_t[i] = np.interp(\n",
    "                    t[i] - t0 + self.width / 2 - self.plateau / 2, self.t_tau,\n",
    "                    self.theta_tau)\n",
    "\n",
    "        df = 2*self.Coupling * (1 / np.tan(theta_t) - 1 / np.tan(self.theta_i))\n",
    "\n",
    "        if self.qubit is None:\n",
    "            # Use linear dependence if no qubit was given\n",
    "            values = df / self.dfdV\n",
    "        else:\n",
    "            values = self.qubit.df_to_dV(df)\n",
    "        if self.negative_amplitude is True:\n",
    "            values = -values\n",
    "\n",
    "        return values\n",
    "\n",
    "    def calculate_cz_waveform(self):\n",
    "        \"\"\"Calculate waveform for c-phase and store in object\"\"\"\n",
    "        # notation and calculations are based on\n",
    "        # \"Fast adiabatic qubit gates using only sigma_z control\"\n",
    "        # PRA 90, 022307 (2014)\n",
    "        # Initial and final angles on the |11>-|02> bloch sphere\n",
    "        self.theta_i = np.arctan(2*self.Coupling / self.Offset)\n",
    "        self.theta_f = np.arctan(2*self.Coupling / self.amplitude)\n",
    "        log.log(msg=\"calc\", level=30)\n",
    "\n",
    "        # Renormalize fourier coefficients to initial and final angles\n",
    "        # Consistent with both Martinis & Geller and DiCarlo 1903.02492\n",
    "        Lcoeff = self.Lcoeff\n",
    "        Lcoeff[0] = (((self.theta_f - self.theta_i) / 2)\n",
    "                     - np.sum(self.Lcoeff[range(2, self.F_Terms, 2)]))\n",
    "\n",
    "        # defining helper variabels\n",
    "        n = np.arange(1, self.F_Terms + 1, 1)\n",
    "        n_points = 1000  # Number of points in the numerical integration\n",
    "\n",
    "        # Calculate pulse width in tau variable - See paper for details\n",
    "        tau = np.linspace(0, 1, n_points)\n",
    "        self.theta_tau = np.zeros(n_points)\n",
    "        # This corresponds to the sum in Eq. (15) in Martinis & Geller\n",
    "        for i in range(n_points):\n",
    "            self.theta_tau[i] = (\n",
    "                np.sum(Lcoeff * (1 - np.cos(2 * np.pi * n * tau[i]))) +\n",
    "                self.theta_i)\n",
    "        # Now calculate t_tau according to Eq. (20)\n",
    "        t_tau = np.trapz(np.sin(self.theta_tau), x=tau)\n",
    "        # Find the width in units of tau:\n",
    "        Width_tau = self.width / t_tau\n",
    "\n",
    "        # Calculating time as functions of tau\n",
    "        # we normalize to width_tau (calculated above)\n",
    "        tau = np.linspace(0, Width_tau, n_points)\n",
    "        self.t_tau = np.zeros(n_points)\n",
    "        for i in range(n_points):\n",
    "            if i > 0:\n",
    "                self.t_tau[i] = np.trapz(\n",
    "                    np.sin(self.theta_tau[0:i+1]), x=tau[0:i+1])\n",
    "\n",
    "\n",
    "class NetZero(CZ):\n",
    "    def __init__(self, *args, **kwargs):\n",
    "        super().__init__()\n",
    "        self.slepian = None\n",
    "\n",
    "    def total_duration(self):\n",
    "        return 2*self.slepian.total_duration()\n",
    "\n",
    "    def calculate_cz_waveform(self):\n",
    "        self.slepian = CZ()\n",
    "        self.slepian.__dict__ = copy.copy(self.__dict__)\n",
    "        self.slepian.width /= 2\n",
    "        self.slepian.plateau /= 2\n",
    "        self.slepian.calculate_cz_waveform()\n",
    "\n",
    "    def calculate_envelope(self, t0, t):\n",
    "        return (self.slepian.calculate_envelope(t0-self.total_duration()/4, t) -\n",
    "                self.slepian.calculate_envelope(t0+self.total_duration()/4, t))"
   ]
  },
  {
   "cell_type": "markdown",
   "metadata": {},
   "source": [
    "# Imports"
   ]
  },
  {
   "cell_type": "code",
   "execution_count": 99,
   "metadata": {},
   "outputs": [],
   "source": [
    "# REQUIRED for c3\n",
    "import qutip as qt\n",
    "# FUTURE: import tensorflow as tf \n",
    "# REASON: tensorflow will become a hard requirement for c3 as certain \n",
    "#         functionality (i.e. GOAT) will depend on it\n",
    "\n",
    "\n",
    "# optional/additional imports \n",
    "from math import * # pi \n",
    "import numpy as np\n",
    "import matplotlib.pyplot as plt  # for plotting\n",
    "import os   # for interacting with operating system, i.e. creating files"
   ]
  },
  {
   "cell_type": "markdown",
   "metadata": {},
   "source": [
    "# Pulse Specification in c3\n"
   ]
  },
  {
   "cell_type": "markdown",
   "metadata": {},
   "source": [
    "## Example: Cosine Pulse"
   ]
  },
  {
   "cell_type": "code",
   "execution_count": 100,
   "metadata": {},
   "outputs": [],
   "source": [
    "pulse1 = Cosine(False)\n",
    "pulse1.amplitude = 0.5\n",
    "pulse1.width = 10E-9\n",
    "pulse1.plateau = 0.4e-7\n",
    "pulse1.frequency = 0.0\n",
    "pulse1.phase = 0.0\n",
    "pulse1.use_drag = False\n",
    "pulse1.drag_coefficient = 0.0\n",
    "pulse1.drag_detuning = 0.0\n",
    "pulse1.start_at_zero = False\n",
    "pulse1.complex = False\n",
    "\n",
    "t0 = 50e-9\n",
    "\n",
    "def cos_envelope(t, idx, guess):\n",
    "    tau = guess[idx['width']]\n",
    "    plateau = guess[idx['plateau']]\n",
    "    t0 = guess[idx['t0']]\n",
    "    if plateau == 0:\n",
    "        values = (1.0 / 2.0 *\n",
    "                  (1 - np.cos(2 * np.pi * (t - t0 + tau / 2) / tau)))\n",
    "    else:\n",
    "        values = np.ones_like(t)\n",
    "        values[t < t0 - plateau / 2] = 1.0 / 2.0 * \\\n",
    "            (1 - np.cos(2 * np.pi *\n",
    "                        (t[t < t0 - plateau / 2] - t0 +\n",
    "                         plateau / 2 + tau / 2) / tau))\n",
    "        values[t > t0 + plateau / 2] = 1.0 / 2.0 * \\\n",
    "            (1 - np.cos(2 * np.pi *\n",
    "                        (t[t > t0 + plateau / 2] - t0 -\n",
    "                         plateau / 2 + tau / 2) / tau))\n",
    "        \n",
    "    total_duration = tau + plateau # why not 2 * width?\n",
    "        \n",
    "    values[t < (t0 - total_duration / 2)] = 0\n",
    "    values[t > (t0 + total_duration / 2)] = 0        \n",
    "\n",
    "    return values    \n",
    "    \n",
    "    \n",
    "cosine_pulse = {\n",
    "    'control1':{\n",
    "        'carrier1':{\n",
    "            'freq' : 6e9*2*pi, #taken from a c3 example still needs to be adjusted to Chalmers setup\n",
    "            'pulses':{\n",
    "                'pulse':{\n",
    "                    #the token 'pulse' is free to chose i.e. 'pulse1', 'pulseX', 'p1', ...\n",
    "                    'params': {\n",
    "                            # required:\n",
    "                            'amp': pulse1.amplitude, \n",
    "                            'xy_angle': pulse1.phase, \n",
    "                            'freq_offset': 2*pi*pulse1.frequency, \n",
    "                            # optional (params for 'func')\n",
    "                            'width': pulse1.width,\n",
    "                            'plateau': pulse1.plateau,\n",
    "                            't0': t0\n",
    "                        },\n",
    "                    'func': cos_envelope\n",
    "                    }                    \n",
    "                }\n",
    "            }\n",
    "        }\n",
    "    }"
   ]
  },
  {
   "cell_type": "markdown",
   "metadata": {},
   "source": [
    "## Example: Gaussian Pulse"
   ]
  },
  {
   "cell_type": "code",
   "execution_count": 101,
   "metadata": {},
   "outputs": [],
   "source": [
    "pulse2 = Gaussian(False)\n",
    "pulse2.amplitude = 0.5\n",
    "pulse2.width = 10E-9\n",
    "pulse2.plateau = 0.2e-7\n",
    "pulse2.frequency = 0.0\n",
    "pulse2.phase = 0.0\n",
    "pulse2.use_drag = False\n",
    "pulse2.drag_coefficient = 0.0\n",
    "pulse2.drag_detuning = 0.0\n",
    "pulse2.start_at_zero = False\n",
    "pulse2.complex = False\n",
    "\n",
    "t0 = 50e-9\n",
    "\n",
    "\n",
    "\n",
    "def gauss_envelope(t, idx, guess):\n",
    "    width = guess[idx['width']]\n",
    "    plateau = guess[idx['plateau']]\n",
    "    t0 = guess[idx['t0']]\n",
    "    start_at_zero = guess[idx['start_at_zero']]\n",
    "    amp = guess[idx['amp']]\n",
    "    # width is two t std\n",
    "    # std = self.width/2;\n",
    "    # alternate; std is set to give total pulse area same as a square\n",
    "    std = width / np.sqrt(2 * np.pi)\n",
    "    values = np.zeros_like(t)\n",
    "    if plateau == 0:\n",
    "        # pure gaussian, no plateau\n",
    "        if std > 0:\n",
    "            values = np.exp(-(t - t0)**2 / (2 * std**2))\n",
    "    else:\n",
    "        # add plateau\n",
    "        values = np.array(\n",
    "            ((t >= (t0 - plateau / 2)) & (t <\n",
    "                                               (t0 + plateau / 2))),\n",
    "            dtype=float)\n",
    "        if std > 0:\n",
    "            # before plateau\n",
    "            values += ((t < (t0 - plateau / 2)) * np.exp(\n",
    "                -(t - (t0 - plateau / 2))**2 / (2 * std**2)))\n",
    "            # after plateau\n",
    "            values += ((t >= (t0 + plateau / 2)) * np.exp(\n",
    "                -(t - (t0 + plateau / 2))**2 / (2 * std**2)))\n",
    "\n",
    "    # TODO  Fix this\n",
    "    if start_at_zero:\n",
    "        values = values - values.min()\n",
    "        values = values / values.max()\n",
    "    #values = values * self.amplitude\n",
    "\n",
    "    truncation_range = 5\n",
    "    total_duration = truncation_range * width + plateau\n",
    "    \n",
    "    # Make sure the waveform is zero outside the pulse\n",
    "    values[t < (t0 - total_duration / 2)] = 0\n",
    "    values[t > (t0 + total_duration / 2)] = 0\n",
    "    \n",
    "    return values\n",
    "\n",
    "\n",
    "gaussian_pulse = {\n",
    "    'control1':{\n",
    "        'carrier1':{\n",
    "            'freq' : 6e9*2*pi, \n",
    "            'pulses':{\n",
    "                'pulse':{ #the token 'pulse' is free to chose i.e. 'pulse1', 'pulseX', 'p1', ...\n",
    "                    'params': {\n",
    "                            # required:\n",
    "                            'amp': pulse2.amplitude, \n",
    "                            'xy_angle': pulse2.phase, \n",
    "                            'freq_offset': 2*pi*pulse2.frequency, \n",
    "                            # optional (params for 'func'):\n",
    "                            'width': pulse2.width,\n",
    "                            'plateau': pulse2.plateau,\n",
    "                            't0': t0,\n",
    "                            'start_at_zero': pulse2.start_at_zero\n",
    "                        },\n",
    "                    'func': gauss_envelope\n",
    "                    }\n",
    "                }\n",
    "            }\n",
    "        }\n",
    "    }"
   ]
  },
  {
   "cell_type": "markdown",
   "metadata": {},
   "source": [
    "# Creation of Gate Object\n",
    "\n",
    "Represents a quantum gate with a fixed parametrization and envelope shape."
   ]
  },
  {
   "cell_type": "code",
   "execution_count": 102,
   "metadata": {},
   "outputs": [],
   "source": [
    "# import parts of c3 that are needed for the task at hand \n",
    "from c3po.main.gate import Gate as gt\n",
    "\n",
    "# EXAMPLE: Assume X_gate is target of operation\n",
    "X_gate = gt('qubit_1', qt.sigmax())"
   ]
  },
  {
   "cell_type": "markdown",
   "metadata": {},
   "source": [
    "## Example: Cosine Pulse"
   ]
  },
  {
   "cell_type": "code",
   "execution_count": 103,
   "metadata": {},
   "outputs": [],
   "source": [
    "X_gate.set_parameters('initial', cosine_pulse)"
   ]
  },
  {
   "cell_type": "markdown",
   "metadata": {},
   "source": [
    "## Plot:\n",
    "In-phase (I) components of the control signal"
   ]
  },
  {
   "cell_type": "code",
   "execution_count": 104,
   "metadata": {
    "scrolled": true
   },
   "outputs": [
    {
     "data": {
      "image/png": "[encoded data removed]",
      "text/plain": [
       "<Figure size 432x288 with 1 Axes>"
      ]
     },
     "metadata": {
      "needs_background": "light"
     },
     "output_type": "display_data"
    }
   ],
   "source": [
    "# default values in gate\n",
    "T_final=100e-9\n",
    "res=1e9\n",
    "\n",
    "t = np.linspace(0, T_final, int(T_final*res))\n",
    "iq = X_gate.get_IQ('initial')\n",
    "\n",
    "plt.plot(t, iq['control1']['carrier1']['I'])\n",
    "plt.show()"
   ]
  },
  {
   "cell_type": "markdown",
   "metadata": {},
   "source": [
    "**Remark:** In c3 the signals are normalized"
   ]
  },
  {
   "cell_type": "markdown",
   "metadata": {},
   "source": [
    "## Comparison\n",
    "Control signal obtained with code from Chalmers"
   ]
  },
  {
   "cell_type": "code",
   "execution_count": 105,
   "metadata": {
    "scrolled": true
   },
   "outputs": [
    {
     "data": {
      "image/png": "[encoded data removed]",
      "text/plain": [
       "<Figure size 432x288 with 1 Axes>"
      ]
     },
     "metadata": {
      "needs_background": "light"
     },
     "output_type": "display_data"
    }
   ],
   "source": [
    "plt.plot(t, pulse1.calculate_waveform(t0, t))\n",
    "plt.show()"
   ]
  },
  {
   "cell_type": "markdown",
   "metadata": {},
   "source": [
    "## Example: Gaussian Pulse"
   ]
  },
  {
   "cell_type": "code",
   "execution_count": 106,
   "metadata": {},
   "outputs": [],
   "source": [
    "X_gate.set_parameters('initial', gaussian_pulse)"
   ]
  },
  {
   "cell_type": "markdown",
   "metadata": {},
   "source": [
    "## Plot:\n",
    "In-phase (I) components of the control signal"
   ]
  },
  {
   "cell_type": "code",
   "execution_count": 107,
   "metadata": {
    "scrolled": true
   },
   "outputs": [
    {
     "data": {
      "image/png": "[encoded data removed]",
      "text/plain": [
       "<Figure size 432x288 with 1 Axes>"
      ]
     },
     "metadata": {
      "needs_background": "light"
     },
     "output_type": "display_data"
    }
   ],
   "source": [
    "# default values in gate\n",
    "T_final=100e-9\n",
    "res=1e9\n",
    "\n",
    "t = np.linspace(0, T_final, int(T_final*res))\n",
    "iq = X_gate.get_IQ('initial')\n",
    "\n",
    "plt.plot(t,iq['control1']['carrier1']['I'])\n",
    "plt.show()"
   ]
  },
  {
   "cell_type": "markdown",
   "metadata": {},
   "source": [
    "**Remark:** In c3 the signals are normalized"
   ]
  },
  {
   "cell_type": "markdown",
   "metadata": {},
   "source": [
    "## Comparison\n",
    "Control signal obtained with code from Chalmers"
   ]
  },
  {
   "cell_type": "code",
   "execution_count": 108,
   "metadata": {
    "scrolled": true
   },
   "outputs": [
    {
     "data": {
      "image/png": "[encoded data removed]",
      "text/plain": [
       "<Figure size 432x288 with 1 Axes>"
      ]
     },
     "metadata": {
      "needs_background": "light"
     },
     "output_type": "display_data"
    }
   ],
   "source": [
    "# amplitude scaling seems to be incorrect. factor 0.5 too much?\n",
    "plt.plot(t, pulse2.calculate_waveform(t0, t))\n",
    "plt.show()"
   ]
  },
  {
   "cell_type": "markdown",
   "metadata": {},
   "source": [
    "# Example: Complex Pulse in c3"
   ]
  },
  {
   "cell_type": "code",
   "execution_count": 131,
   "metadata": {},
   "outputs": [],
   "source": [
    "complex_pulse = {\n",
    "    'control1':{\n",
    "        'carrier1':{\n",
    "            'freq' : 6e9*2*pi, \n",
    "            'pulses':{\n",
    "                'gauss1':{ #the token 'pulse' is free to chose i.e. 'pulse1', 'pulseX', 'p1', ...\n",
    "                    'params': {\n",
    "                            # required:\n",
    "                            'amp': pulse2.amplitude, \n",
    "                            'xy_angle': pulse2.phase, \n",
    "                            'freq_offset': 2*pi*pulse2.frequency, \n",
    "                            # optional (params for 'func'):\n",
    "                            'width': pulse2.width,\n",
    "                            'plateau': pulse2.plateau*0.25,\n",
    "                            't0': t0-25e-9,\n",
    "                            'start_at_zero': pulse2.start_at_zero\n",
    "                        },\n",
    "                    'func': gauss_envelope\n",
    "                    },\n",
    "                'gauss2':{ #the token 'pulse' is free to chose i.e. 'pulse1', 'pulseX', 'p1', ...\n",
    "                    'params': {\n",
    "                            # required:\n",
    "                            'amp': pulse2.amplitude*2, \n",
    "                            'xy_angle': pulse2.phase, \n",
    "                            'freq_offset': 2*pi*pulse2.frequency, \n",
    "                            # optional (params for 'func'):\n",
    "                            'width': pulse2.width,\n",
    "                            'plateau': pulse2.plateau*0.25,\n",
    "                            't0': t0+25e-9,\n",
    "                            'start_at_zero': pulse2.start_at_zero\n",
    "                        },\n",
    "                    'func': gauss_envelope\n",
    "                    },\n",
    "                'cos1':{ #the token 'pulse' is free to chose i.e. 'pulse1', 'pulseX', 'p1', ...\n",
    "                    'params': {\n",
    "                            # required:\n",
    "                            'amp': pulse2.amplitude, \n",
    "                            'xy_angle': pulse2.phase, \n",
    "                            'freq_offset': 2*pi*pulse2.frequency, \n",
    "                            # optional (params for 'func'):\n",
    "                            'width': pulse2.width,\n",
    "                            'plateau': pulse2.plateau*0.25,\n",
    "                            't0': t0,\n",
    "                        },\n",
    "                    'func': cos_envelope\n",
    "                    }\n",
    "                }\n",
    "            }\n",
    "        }\n",
    "    }"
   ]
  },
  {
   "cell_type": "code",
   "execution_count": 132,
   "metadata": {},
   "outputs": [],
   "source": [
    "X_gate.set_parameters('initial', complex_pulse)"
   ]
  },
  {
   "cell_type": "code",
   "execution_count": 133,
   "metadata": {},
   "outputs": [
    {
     "data": {
      "image/png": "[encoded data removed]",
      "text/plain": [
       "<Figure size 432x288 with 1 Axes>"
      ]
     },
     "metadata": {
      "needs_background": "light"
     },
     "output_type": "display_data"
    }
   ],
   "source": [
    "# default values in gate\n",
    "T_final=100e-9\n",
    "res=1e9\n",
    "\n",
    "t = np.linspace(0, T_final, int(T_final*res))\n",
    "iq = X_gate.get_IQ('initial')\n",
    "\n",
    "plt.plot(t, iq['control1']['carrier1']['I'])\n",
    "plt.show()"
   ]
  }
 ],
 "metadata": {
  "kernelspec": {
   "display_name": "c3po",
   "language": "python",
   "name": "c3po"
  },
  "language_info": {
   "codemirror_mode": {
    "name": "ipython",
    "version": 3
   },
   "file_extension": ".py",
   "mimetype": "text/x-python",
   "name": "python",
   "nbconvert_exporter": "python",
   "pygments_lexer": "ipython3",
   "version": "3.7.3"
  }
 },
 "nbformat": 4,
 "nbformat_minor": 2
}
